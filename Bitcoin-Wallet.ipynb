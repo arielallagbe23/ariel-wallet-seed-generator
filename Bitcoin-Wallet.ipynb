{
 "cells": [
  {
   "cell_type": "markdown",
   "metadata": {},
   "source": [
    "# **The Bitcoin Wallet**"
   ]
  },
  {
   "cell_type": "markdown",
   "metadata": {},
   "source": [
    "## **BIP 39**"
   ]
  },
  {
   "cell_type": "markdown",
   "metadata": {},
   "source": [
    "### Create a random integer that can serve as a securely generated seed for a wallet"
   ]
  },
  {
   "cell_type": "code",
   "execution_count": 92,
   "metadata": {},
   "outputs": [
    {
     "name": "stdout",
     "output_type": "stream",
     "text": [
      "Generated seed: 275430278602789470365765935520496708628\n"
     ]
    }
   ],
   "source": [
    "import secrets\n",
    "\n",
    "def generate_secure_seed(bits=128):\n",
    "    # Generate a random seed (entropy)\n",
    "    return secrets.randbits(bits)\n",
    "\n",
    "# Generate the seed\n",
    "seed = generate_secure_seed()\n",
    "print(f\"Generated seed: {seed}\")"
   ]
  },
  {
   "cell_type": "markdown",
   "metadata": {},
   "source": [
    "### Convert this seed to binary and split it into 11-bit chunks"
   ]
  },
  {
   "cell_type": "code",
   "execution_count": 93,
   "metadata": {},
   "outputs": [
    {
     "name": "stdout",
     "output_type": "stream",
     "text": [
      "Seed in binary split into 11-bit chunks: ['11001111001', '10101111100', '01001011100', '11101100100', '00100111011', '10010111110', '00101011110', '01011111010', '10110000111', '00100011000', '11011011000', '00101000001']\n"
     ]
    }
   ],
   "source": [
    "import hashlib\n",
    "\n",
    "def calculate_checksum(seed, bits=128):\n",
    "    # Convert seed to bytes\n",
    "    seed_bytes = seed.to_bytes(bits // 8, byteorder='big')\n",
    "    \n",
    "    # Calculate the SHA-256 hash of the seed\n",
    "    hash_digest = hashlib.sha256(seed_bytes).hexdigest()\n",
    "    \n",
    "    # Convert the hash to binary and take the first few bits (bits / 32)\n",
    "    checksum_length = bits // 32\n",
    "    checksum = bin(int(hash_digest, 16))[2:].zfill(256)[:checksum_length]\n",
    "    \n",
    "    return checksum\n",
    "\n",
    "def seed_to_binary_with_checksum(seed, bits=128):\n",
    "    # Convert seed to binary string\n",
    "    binary_seed = bin(seed)[2:].zfill(bits)\n",
    "    \n",
    "    # Calculate and append the checksum\n",
    "    checksum = calculate_checksum(seed, bits)\n",
    "    return binary_seed + checksum\n",
    "\n",
    "def split_into_chunks(binary_seed, chunk_size=11):\n",
    "    # Split binary seed into chunks of 11 bits\n",
    "    return [binary_seed[i:i+chunk_size] for i in range(0, len(binary_seed), chunk_size)]\n",
    "\n",
    "# Convert the seed to binary with checksum and split into 11-bit chunks\n",
    "binary_seed_with_checksum = seed_to_binary_with_checksum(seed)\n",
    "binary_chunks = split_into_chunks(binary_seed_with_checksum)\n",
    "\n",
    "print(f\"Seed in binary split into 11-bit chunks: {binary_chunks}\")"
   ]
  },
  {
   "cell_type": "markdown",
   "metadata": {},
   "source": [
    "### Assign each chunk a word from the BIP 39 list and display the seed in mnemonic form"
   ]
  },
  {
   "cell_type": "code",
   "execution_count": 94,
   "metadata": {},
   "outputs": [
    {
     "name": "stdout",
     "output_type": "stream",
     "text": [
      "Mnemonic seed phrase: song question entire uncle cherry oak cloth gap rail cart swallow choice\n"
     ]
    }
   ],
   "source": [
    "# Load the BIP 39 word list from a local file or URL\n",
    "def load_bip39_wordlist(filepath=\"english.txt\"):\n",
    "    with open(filepath, 'r') as file:\n",
    "        wordlist = file.read().splitlines()\n",
    "    return wordlist\n",
    "\n",
    "def binary_to_mnemonic(binary_chunks, wordlist):\n",
    "    # Convert each 11-bit chunk into an integer\n",
    "    indices = [int(chunk, 2) for chunk in binary_chunks]\n",
    "    \n",
    "    # Map each integer to a word from the BIP 39 word list\n",
    "    mnemonic = [wordlist[index] for index in indices]\n",
    "    \n",
    "    return ' '.join(mnemonic)\n",
    "\n",
    "# Load the BIP 39 word list\n",
    "wordlist = load_bip39_wordlist()\n",
    "\n",
    "# Use the seed that was generated and converted into binary_chunks in previous steps\n",
    "mnemonic_phrase = binary_to_mnemonic(binary_chunks, wordlist)\n",
    "\n",
    "# Print the mnemonic seed phrase\n",
    "print(f\"Mnemonic seed phrase: {mnemonic_phrase}\")"
   ]
  },
  {
   "cell_type": "markdown",
   "metadata": {},
   "source": [
    "### Allow the import of a mnemonic seed"
   ]
  },
  {
   "cell_type": "code",
   "execution_count": 95,
   "metadata": {},
   "outputs": [
    {
     "name": "stdout",
     "output_type": "stream",
     "text": [
      "The generated seed and the imported seed are identical.\n",
      "Seed derived from the imported mnemonic: 275430278602789470365765935520496708628\n"
     ]
    }
   ],
   "source": [
    "def mnemonic_to_seed(mnemonic_phrase, wordlist):\n",
    "    # Split the mnemonic phrase into individual words\n",
    "    words = mnemonic_phrase.split()\n",
    "    \n",
    "    # Check if all words exist in the BIP 39 word list\n",
    "    if not all(word in wordlist for word in words):\n",
    "        raise ValueError(\"One or more words in the mnemonic phrase are invalid.\")\n",
    "    \n",
    "    # Convert each word into its index in the BIP 39 word list\n",
    "    indices = [wordlist.index(word) for word in words]\n",
    "    \n",
    "    # Convert each index into a binary string of 11 bits\n",
    "    binary_seed = ''.join([bin(index)[2:].zfill(11) for index in indices])\n",
    "    \n",
    "    # The original seed should be the first bits - the last few bits are the checksum\n",
    "    checksum_length = len(words) * 11 // 33\n",
    "    seed_bits = binary_seed[:-checksum_length]\n",
    "    \n",
    "    # Convert the binary seed back to an integer\n",
    "    seed = int(seed_bits, 2)\n",
    "    \n",
    "    return seed\n",
    "\n",
    "imported_seed = mnemonic_to_seed(mnemonic_phrase, wordlist)\n",
    "\n",
    "# Confirm if the generated seed matches the imported seed\n",
    "if seed == imported_seed:\n",
    "    print(\"The generated seed and the imported seed are identical.\")\n",
    "else:\n",
    "    print(\"The generated seed and the imported seed are different.\")\n",
    "\n",
    "print(f\"Seed derived from the imported mnemonic: {imported_seed}\")\n"
   ]
  },
  {
   "cell_type": "markdown",
   "metadata": {},
   "source": [
    "## **BIP 32**"
   ]
  },
  {
   "cell_type": "markdown",
   "metadata": {},
   "source": [
    "### Extract the master private key and chain code"
   ]
  },
  {
   "cell_type": "code",
   "execution_count": 99,
   "metadata": {},
   "outputs": [
    {
     "name": "stdout",
     "output_type": "stream",
     "text": [
      "Master Private Key: 4befc1f9d6475469cf940a9b955962089d9588efef95219f5f30eac460939adf\n",
      "Chain Code: 09fa3eb83ed59c3e7f297e959327e1dafd24a78d52933782da92b3c94baba3a3\n"
     ]
    }
   ],
   "source": [
    "import hmac\n",
    "import hashlib\n",
    "\n",
    "def hmac_sha512(key, data):\n",
    "    return hmac.new(key, data, hashlib.sha512).digest()\n",
    "\n",
    "def derive_master_keys(seed):\n",
    "    hmac_key = b\"Bitcoin seed\"\n",
    "    I = hmac_sha512(hmac_key, seed)\n",
    "    \n",
    "    # Split the result into master private key and chain code\n",
    "    master_private_key = I[:32]\n",
    "    chain_code = I[32:]\n",
    "    \n",
    "    return master_private_key, chain_code\n",
    "\n",
    "# Convert the seed (integer) to bytes\n",
    "hex_seed = seed.to_bytes((seed.bit_length() + 7) // 8, byteorder='big')\n",
    "\n",
    "# Derive master private key and chain code\n",
    "master_private_key, chain_code = derive_master_keys(hex_seed)\n",
    "\n",
    "print(f\"Master Private Key: {master_private_key.hex()}\")\n",
    "print(f\"Chain Code: {chain_code.hex()}\")"
   ]
  },
  {
   "cell_type": "markdown",
   "metadata": {},
   "source": [
    "### Extract the master public key"
   ]
  },
  {
   "cell_type": "code",
   "execution_count": 112,
   "metadata": {},
   "outputs": [
    {
     "name": "stdout",
     "output_type": "stream",
     "text": [
      "Master Public Key: 03f80da6e35d4e1602e310ab69b62158b554f9838290bc2ced5d2beebb421e0bbc\n"
     ]
    }
   ],
   "source": [
    "from ecdsa import SigningKey, SECP256k1\n",
    "\n",
    "def get_master_public_key(master_private_key):\n",
    "    # Generate signing key from the master private key using SECP256k1\n",
    "    sk = SigningKey.from_string(master_private_key, curve=SECP256k1)\n",
    "    \n",
    "    # Get the verifying key (public key)\n",
    "    vk = sk.verifying_key\n",
    "    \n",
    "    return vk.to_string(\"compressed\")  # Return the compressed public key\n",
    "\n",
    "master_public_key = get_master_public_key(master_private_key)\n",
    "print(f\"Master Public Key: {master_public_key.hex()}\")"
   ]
  },
  {
   "cell_type": "markdown",
   "metadata": {},
   "source": [
    "### Generate a child key"
   ]
  },
  {
   "cell_type": "code",
   "execution_count": 113,
   "metadata": {},
   "outputs": [
    {
     "name": "stdout",
     "output_type": "stream",
     "text": [
      "Child Private Key: 01007004c90f98391c863128f7837638d58198362d667a00cf6de4e9b8392117\n",
      "Child Chain Code: 6e450f8aaf6f489234c158d46ae63613c165dd808820e07c9e58cd7b9c2074f4\n"
     ]
    }
   ],
   "source": [
    "import hmac\n",
    "import hashlib\n",
    "\n",
    "def derive_child_key(parent_private_key, parent_chain_code, index):\n",
    "    # Hardened derivation if index >= 0x80000000\n",
    "    if index >= 0x80000000:\n",
    "        data = b'\\x00' + parent_private_key + index.to_bytes(4, 'big')\n",
    "    else:\n",
    "        public_key = get_master_public_key(parent_private_key)\n",
    "        data = public_key + index.to_bytes(4, 'big')\n",
    "    \n",
    "    I = hmac.new(parent_chain_code, data, hashlib.sha512).digest()\n",
    "    child_private_key = (int.from_bytes(I[:32], 'big') + int.from_bytes(parent_private_key, 'big')) % SECP256k1.order\n",
    "    child_chain_code = I[32:]\n",
    "    \n",
    "    return child_private_key.to_bytes(32, 'big'), child_chain_code\n",
    "\n",
    "# Example usage (using index 0 for simplicity)\n",
    "index = 0\n",
    "child_private_key, child_chain_code = derive_child_key(master_private_key, chain_code, index)\n",
    "\n",
    "print(f\"Child Private Key: {child_private_key.hex()}\")\n",
    "print(f\"Child Chain Code: {child_chain_code.hex()}\")"
   ]
  },
  {
   "cell_type": "markdown",
   "metadata": {},
   "source": [
    "### Generate a child key at index N"
   ]
  },
  {
   "cell_type": "code",
   "execution_count": 114,
   "metadata": {},
   "outputs": [
    {
     "name": "stdout",
     "output_type": "stream",
     "text": [
      "Child Private Key at index 5: 6df0522591a67bf471e2ce903bd8e81f3d255429f902575fc57874943ec0e24c\n",
      "Child Chain Code at index 5: e2021689a55ced774858fbc2022714435d98b889e029665f14b79b4fbfcb6d7f\n"
     ]
    }
   ],
   "source": [
    "index_N = 5  # Replace with any desired index\n",
    "child_private_key_N, child_chain_code_N = derive_child_key(master_private_key, chain_code, index_N)\n",
    "\n",
    "print(f\"Child Private Key at index {index_N}: {child_private_key_N.hex()}\")\n",
    "print(f\"Child Chain Code at index {index_N}: {child_chain_code_N.hex()}\")"
   ]
  },
  {
   "cell_type": "markdown",
   "metadata": {},
   "source": [
    "### Generate a child key at index N with derivation level M"
   ]
  },
  {
   "cell_type": "code",
   "execution_count": 115,
   "metadata": {},
   "outputs": [
    {
     "name": "stdout",
     "output_type": "stream",
     "text": [
      "Child Private Key at index 5 and level 3: 029f74bb5c13bcf6fca55636fd3cf3270754192e5808a86c5cde8ee6605b48d9\n",
      "Child Chain Code at index 5 and level 3: 961fe300d3f741f08e175100c758b2733603ce1cc888b8dd66531071bf884f11\n"
     ]
    }
   ],
   "source": [
    "def derive_key_at_level(parent_private_key, parent_chain_code, index_N, level_M):\n",
    "    current_private_key = parent_private_key\n",
    "    current_chain_code = parent_chain_code\n",
    "    \n",
    "    for _ in range(level_M):\n",
    "        current_private_key, current_chain_code = derive_child_key(current_private_key, current_chain_code, index_N)\n",
    "    \n",
    "    return current_private_key, current_chain_code\n",
    "\n",
    "index_N = 5  # Replace with any index\n",
    "level_M = 3  # Replace with the desired derivation level\n",
    "child_private_key_M, child_chain_code_M = derive_key_at_level(master_private_key, chain_code, index_N, level_M)\n",
    "\n",
    "print(f\"Child Private Key at index {index_N} and level {level_M}: {child_private_key_M.hex()}\")\n",
    "print(f\"Child Chain Code at index {index_N} and level {level_M}: {child_chain_code_M.hex()}\")"
   ]
  }
 ],
 "metadata": {
  "kernelspec": {
   "display_name": "base",
   "language": "python",
   "name": "python3"
  },
  "language_info": {
   "codemirror_mode": {
    "name": "ipython",
    "version": 3
   },
   "file_extension": ".py",
   "mimetype": "text/x-python",
   "name": "python",
   "nbconvert_exporter": "python",
   "pygments_lexer": "ipython3",
   "version": "3.9.13"
  }
 },
 "nbformat": 4,
 "nbformat_minor": 2
}
